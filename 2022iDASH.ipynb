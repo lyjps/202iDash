{
 "cells": [
  {
   "cell_type": "markdown",
   "id": "3c59710c",
   "metadata": {},
   "source": [
    "# 数据集的处理"
   ]
  },
  {
   "cell_type": "code",
   "execution_count": 3,
   "id": "84b426a6",
   "metadata": {
    "scrolled": true
   },
   "outputs": [
    {
     "name": "stdout",
     "output_type": "stream",
     "text": [
      "['d8e4f50989cf4f4142627b2e01dde505eafe0cad'\n",
      " '4d784bfc402f201b78efb2404ed7c8b9ebf2126a'\n",
      " '81b832a049175854a6054c729e403e43bfb11bc6' ...\n",
      " 'cb2cd678bc0c62f30443514f98bf067e443c929e'\n",
      " '76e1d8e319e270e45f1cd0641c8842af6f9dd2b3'\n",
      " '4567181cb7d7042447db50be1f48c5c2fbb093ed']\n",
      "[[ 0.          1.         -0.77562048  0.2772985   0.02397521]\n",
      " [ 0.          1.         -0.56495348 -0.05162873 -0.09198061]\n",
      " [ 0.          1.         -0.72443017 -0.18412147 -0.05866303]\n",
      " ...\n",
      " [ 0.          1.          0.40280716 -0.65846191 -0.0763017 ]\n",
      " [ 0.          0.         -0.4976993  -0.18874262 -0.15101802]\n",
      " [ 0.          0.         -0.6083261  -0.05892341 -0.0601022 ]]\n",
      "2400 600\n",
      "2400 600\n"
     ]
    },
    {
     "name": "stderr",
     "output_type": "stream",
     "text": [
      "/var/folders/f0/88_n9dvs6m5b30v0jt7t5j5r0000gn/T/ipykernel_50217/3504189341.py:32: FutureWarning: The `inplace` parameter in pandas.Categorical.reorder_categories is deprecated and will be removed in a future version. Reordering categories will always return a new Categorical object.\n",
      "  df['words'].cat.reorder_categories(list, inplace=True)\n",
      "/var/folders/f0/88_n9dvs6m5b30v0jt7t5j5r0000gn/T/ipykernel_50217/3504189341.py:32: FutureWarning: The `inplace` parameter in pandas.Categorical.reorder_categories is deprecated and will be removed in a future version. Reordering categories will always return a new Categorical object.\n",
      "  df['words'].cat.reorder_categories(list, inplace=True)\n",
      "/var/folders/f0/88_n9dvs6m5b30v0jt7t5j5r0000gn/T/ipykernel_50217/3504189341.py:32: FutureWarning: The `inplace` parameter in pandas.Categorical.reorder_categories is deprecated and will be removed in a future version. Reordering categories will always return a new Categorical object.\n",
      "  df['words'].cat.reorder_categories(list, inplace=True)\n",
      "/var/folders/f0/88_n9dvs6m5b30v0jt7t5j5r0000gn/T/ipykernel_50217/3504189341.py:32: FutureWarning: The `inplace` parameter in pandas.Categorical.reorder_categories is deprecated and will be removed in a future version. Reordering categories will always return a new Categorical object.\n",
      "  df['words'].cat.reorder_categories(list, inplace=True)\n",
      "/var/folders/f0/88_n9dvs6m5b30v0jt7t5j5r0000gn/T/ipykernel_50217/3504189341.py:32: FutureWarning: The `inplace` parameter in pandas.Categorical.reorder_categories is deprecated and will be removed in a future version. Reordering categories will always return a new Categorical object.\n",
      "  df['words'].cat.reorder_categories(list, inplace=True)\n"
     ]
    }
   ],
   "source": [
    "#conding=utf8  \n",
    "import os \n",
    "import numpy as np\n",
    "import pandas as pd \n",
    "# 读取数据集\n",
    "genetypes = np.loadtxt(\"/Users/lyjps/Desktop/ALL_CHALLENGE_DATA_15_07_22_11_50_09/CHALLENGE_DATA/genotypes.txt\",\n",
    "                       dtype=int, usecols=np.arange(4,3004),unpack=True)\n",
    "#print(genetypes)\n",
    "\n",
    "# 读取标签\n",
    "list = np.loadtxt(\"/Users/lyjps/Desktop/ALL_CHALLENGE_DATA_15_07_22_11_50_09/CHALLENGE_DATA/genotype_sample_ids.list\",\n",
    "                          dtype=np.str_, encoding='utf-8')\n",
    "print(list)\n",
    "\n",
    "phenotypes = np.zeros(shape=(5,3000))\n",
    "i =0\n",
    "for path,dir_list,file_list in os.walk(\"/Users/lyjps/Desktop/ALL_CHALLENGE_DATA_15_07_22_11_50_09/CHALLENGE_DATA/phenotypes\"):  \n",
    "    for file_name in file_list:  \n",
    "        #print(os.path.join(path, file_name) )\n",
    "        phenotypes_i = np.loadtxt(os.path.join(path, file_name),\n",
    "                                  dtype=np.str_, encoding='utf-8', usecols=(0,))\n",
    "        s = pd.Series(np.loadtxt(os.path.join(path, file_name),\n",
    "                                  dtype=float, usecols=(1,)),\n",
    "                                  phenotypes_i)\n",
    "\n",
    "        df = pd.DataFrame(s)\n",
    "        df = df.reset_index()\n",
    "        df.columns = ['words', 'number']\n",
    "\n",
    "        df['words'] = df['words'].astype('category')\n",
    "        # inplace = True，使 recorder_categories生效\n",
    "        df['words'].cat.reorder_categories(list, inplace=True)\n",
    "        # inplace = True，使 df生效\n",
    "        df.sort_values('words', inplace=True)\n",
    "        #print(df)\n",
    "        t = df.values\n",
    "        #a = t[:,1]\n",
    "        #t[:,1]\n",
    "        phenotypes[i] = t[:,1]\n",
    "        i = i+1\n",
    "        \n",
    "phenotypes_transpose = np.transpose(phenotypes)\n",
    "print(phenotypes_transpose)\n",
    "\n",
    "# 训练集、验证集划分\n",
    "train_x,test_x=np.split(genetypes,[int(len(genetypes)*0.8),])  #80%训练集、20%测试集\n",
    "print(len(train_x),len(test_x))\n",
    "train_y,test_y=np.split(phenotypes_transpose,[int(len(phenotypes_transpose)*0.8)])  #80%训练集、20%测试集\n",
    "print(len(train_y),len(test_y))\n",
    "\n",
    "\n",
    "\n"
   ]
  },
  {
   "cell_type": "markdown",
   "id": "ad3eae57",
   "metadata": {},
   "source": [
    "# 模型预测"
   ]
  },
  {
   "cell_type": "code",
   "execution_count": 11,
   "id": "3676aa15",
   "metadata": {},
   "outputs": [
    {
     "name": "stderr",
     "output_type": "stream",
     "text": [
      "/Users/lyjps/opt/anaconda3/lib/python3.8/site-packages/scipy/__init__.py:146: UserWarning: A NumPy version >=1.16.5 and <1.23.0 is required for this version of SciPy (detected version 1.23.1\n",
      "  warnings.warn(f\"A NumPy version >={np_minversion} and <{np_maxversion}\"\n"
     ]
    }
   ],
   "source": [
    "import numpy as np\n",
    "#import matplotlib.pyplot as plt\n",
    "from sklearn.ensemble import RandomForestRegressor\n",
    "from sklearn.model_selection import train_test_split\n",
    "from sklearn.multioutput import MultiOutputRegressor\n",
    "#from sklearn.\n",
    "# 训练\n",
    "max_depth = 30\n",
    "regr_multirf = MultiOutputRegressor(\n",
    "    RandomForestRegressor(n_estimators=100, max_depth=max_depth, random_state=0)\n",
    ")\n",
    "regr_multirf.fit(train_x, train_y)\n",
    "\n",
    "\n",
    "# 预测\n",
    "y_multirf = regr_multirf.predict(test_x)\n",
    "\n"
   ]
  },
  {
   "cell_type": "code",
   "execution_count": 43,
   "id": "420f8bfb",
   "metadata": {},
   "outputs": [
    {
     "name": "stdout",
     "output_type": "stream",
     "text": [
      "MultiOutputRegressor(estimator=RandomForestRegressor(max_depth=30,\n",
      "                                                     random_state=0))\n",
      "5\n",
      "[0.00000000e+00 0.00000000e+00 1.19531660e-04 ... 0.00000000e+00\n",
      " 3.10924422e-05 0.00000000e+00]\n"
     ]
    },
    {
     "data": {
      "text/plain": [
       "0.9525951388856777"
      ]
     },
     "execution_count": 43,
     "metadata": {},
     "output_type": "execute_result"
    }
   ],
   "source": [
    "import pickle\n",
    "f = open('/Users/lyjps/Desktop/savemodes/regr_multirf.dat','wb')\n",
    "pickle.dump(regr_multirf,f)\n",
    "f.close()\n",
    "\n",
    "t = open('/Users/lyjps/Desktop/savemodes/regr_multirf.dat','rb')\n",
    "info = pickle.load(t)\n",
    "print(info)\n",
    "\n",
    "print(len(info.estimators_))\n",
    "\n",
    "print(info.estimators_[0].feature_importances_)\n",
    "\n",
    "        \n",
    "info.predict(test_x)\n",
    "info.get_params(deep=True)\n",
    "info.score(train_x, train_y, sample_weight=None)"
   ]
  },
  {
   "cell_type": "code",
   "execution_count": 30,
   "id": "ef3195b1",
   "metadata": {},
   "outputs": [
    {
     "data": {
      "image/png": "[encoded data removed]",
      "text/plain": [
       "<Figure size 432x288 with 1 Axes>"
      ]
     },
     "metadata": {
      "needs_background": "light"
     },
     "output_type": "display_data"
    }
   ],
   "source": [
    "import matplotlib.pyplot as plt\n",
    "# 正确率可视化\n",
    "# Plot the results\n",
    "plt.figure()\n",
    "s = 50\n",
    "a = 0.4\n",
    "plt.scatter(\n",
    "    test_y[:, 2],\n",
    "    test_y[:, 4],\n",
    "    edgecolor=\"k\",\n",
    "    c=\"navy\",\n",
    "    s=s,\n",
    "    marker=\"s\",\n",
    "    alpha=a,\n",
    "    label=\"Data\",\n",
    ")\n",
    "plt.scatter(\n",
    "    y_multirf[:, 2],\n",
    "    y_multirf[:, 4],\n",
    "    edgecolor=\"k\",\n",
    "    c=\"cornflowerblue\",\n",
    "    s=s,\n",
    "    alpha=a,\n",
    "    label=\"Multi RF score=%.2f\" % regr_multirf.score(test_x, test_y),\n",
    ")\n",
    "\n",
    "plt.xlim([-1.1, 1.1])\n",
    "plt.ylim([-1.1, 1.1])\n",
    "plt.xlabel(\"target 1\")\n",
    "plt.ylabel(\"target 2\")\n",
    "plt.title(\"the multi-output meta estimator\")\n",
    "plt.legend()\n",
    "plt.show()"
   ]
  },
  {
   "cell_type": "code",
   "execution_count": null,
   "id": "19ae650e",
   "metadata": {},
   "outputs": [],
   "source": []
  }
 ],
 "metadata": {
  "kernelspec": {
   "display_name": "Python 3 (ipykernel)",
   "language": "python",
   "name": "python3"
  },
  "language_info": {
   "codemirror_mode": {
    "name": "ipython",
    "version": 3
   },
   "file_extension": ".py",
   "mimetype": "text/x-python",
   "name": "python",
   "nbconvert_exporter": "python",
   "pygments_lexer": "ipython3",
   "version": "3.8.8"
  }
 },
 "nbformat": 4,
 "nbformat_minor": 5
}
